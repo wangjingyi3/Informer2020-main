{
 "cells": [
  {
   "cell_type": "code",
   "execution_count": 4,
   "id": "44143352",
   "metadata": {},
   "outputs": [
    {
     "name": "stdout",
     "output_type": "stream",
     "text": [
      "            date        1       2         3      4        5     6      7  \\\n",
      "0  2022/1/1 0:00  313.394  20.416  157.9299  5.207  2087.27  2592      0   \n",
      "1  2022/1/1 0:05  313.394  20.416  157.9299  5.207  2056.92     0  12960   \n",
      "2  2022/1/1 0:10  313.394  20.416  157.9299  5.207  2104.89  2628      0   \n",
      "3  2022/1/1 0:15  313.394  20.416  157.9299  5.207  2120.79     0  12908   \n",
      "4  2022/1/1 0:20  313.394  20.416  157.9299  5.207  2085.26  2592      0   \n",
      "\n",
      "       8   9  ...          30          31         32         33         34  \\\n",
      "0   0.00  69  ...  286.992650  158.722225  96.761279  47.793785  58.404373   \n",
      "1  10.83  69  ...  287.074725  158.808725  96.809061  47.801057  58.444664   \n",
      "2   0.00  69  ...  287.137950  158.866225  96.846424  47.805674  58.375439   \n",
      "3  10.87  69  ...  287.194675  158.973000  96.924863  47.812304  58.555602   \n",
      "4   0.00  69  ...  287.254275  159.039375  97.008255  47.831000  58.553255   \n",
      "\n",
      "          35         36         37         38         39  \n",
      "0  38.923322  45.257205  55.312440  54.133559  1506.1590  \n",
      "1  38.990828  45.274941  55.157315  53.853930  1506.1064  \n",
      "2  38.949381  45.315005  54.898499  53.945324  1506.0538  \n",
      "3  38.929533  45.218542  54.895215  54.236245  1506.0000  \n",
      "4  38.981387  45.073752  54.653858  53.898435  1505.8378  \n",
      "\n",
      "[5 rows x 40 columns]\n"
     ]
    }
   ],
   "source": [
    "import pandas as pd\n",
    "\n",
    "# 读取 CSV 文件并加载到 DataFrame\n",
    "df = pd.read_csv('./data/ETT/Blast Furnace System.csv')\n",
    "\n",
    "# 输出前几行数据（默认显示前 5 行）\n",
    "print(df.head())\n"
   ]
  },
  {
   "cell_type": "code",
   "execution_count": null,
   "id": "84861c65",
   "metadata": {},
   "outputs": [],
   "source": []
  },
  {
   "cell_type": "code",
   "execution_count": null,
   "id": "916d34da",
   "metadata": {},
   "outputs": [],
   "source": []
  }
 ],
 "metadata": {
  "kernelspec": {
   "display_name": "Python [conda env:py38]",
   "language": "python",
   "name": "conda-env-py38-py"
  },
  "language_info": {
   "codemirror_mode": {
    "name": "ipython",
    "version": 3
   },
   "file_extension": ".py",
   "mimetype": "text/x-python",
   "name": "python",
   "nbconvert_exporter": "python",
   "pygments_lexer": "ipython3",
   "version": "3.8.12"
  }
 },
 "nbformat": 4,
 "nbformat_minor": 5
}
